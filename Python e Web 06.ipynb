{
 "cells": [
  {
   "cell_type": "markdown",
   "metadata": {},
   "source": [
    "# Desafio - Rotina de Baixar uma Planilha da Web\n",
    "\n",
    "- Imagine que você trabalhe no Mercado Financeiro e tem que todo dia/semana baixar uma planilha com as cotações do dólar\n",
    "- Usaremos o site investing.com para baixar esses dados\n",
    "- O link onde ficam esses dados é: https://br.investing.com/currencies/usd-brl-historical-data\n",
    "- Escolhemos o site investing.com porque ele é cheio de coisinha chata que vai obrigar a gente a fazer um código completo\n",
    "- Crie uma conta no site antes de começar, é gratuito"
   ]
  },
  {
   "cell_type": "code",
   "execution_count": 22,
   "metadata": {},
   "outputs": [],
   "source": [
    "from selenium import webdriver\n",
    "from selenium.webdriver.common.by import By\n",
    "from selenium.webdriver import ActionChains\n",
    "from selenium.webdriver.support.ui import WebDriverWait\n",
    "from selenium.webdriver.support import expected_conditions as EC\n",
    "from selenium.webdriver.common.keys import Keys\n",
    "import time\n",
    "import os"
   ]
  },
  {
   "cell_type": "code",
   "execution_count": 23,
   "metadata": {},
   "outputs": [],
   "source": [
    "navegador = webdriver.Chrome()\n",
    "navegador.get('https://br.investing.com/currencies/usd-brl-historical-data')\n",
    "\n",
    "# esperar o aceitamento dos cookies aparecer\n",
    "elemento = WebDriverWait(navegador, 30).until(EC.presence_of_element_located((By.ID, 'onetrust-accept-btn-handler')))\n",
    "elemento.click()\n",
    "\n",
    "# login\n",
    "time.sleep(1.4)\n",
    "navegador.find_element(By.XPATH, '//*[@id=\"userAccount\"]/div/a[1]').click()\n",
    "time.sleep(1)\n",
    "# campo do email\n",
    "navegador.find_element(By.ID, 'loginFormUser_email').send_keys('eltoncordeirodias@gmail.com')\n",
    "\n",
    "# campo da ...\n",
    "navegador.find_element(By.ID, 'loginForm_password').send_keys('elton123')\n",
    "\n",
    "navegador.find_element(By.XPATH, '//*[@id=\"signup\"]/a').click()\n",
    "\n",
    "#navegador.find_element(By.ID, 'curr_table').click()\n",
    "time.sleep(1.4)\n"
   ]
  },
  {
   "cell_type": "code",
   "execution_count": 24,
   "metadata": {},
   "outputs": [],
   "source": [
    "navegador.find_element(By.CSS_SELECTOR, '#column-content > div.float_lang_base_2.downloadDataWrap > div > a').click()\n",
    "navegador.quit()"
   ]
  },
  {
   "cell_type": "code",
   "execution_count": 25,
   "metadata": {},
   "outputs": [],
   "source": [
    "from pathlib import Path\n",
    "time.sleep(3)\n",
    "try:\n",
    "    Path('C:/Users/T-Gamer/Downloads/USD_BRL Dados Históricos.csv').rename('C:/Users/T-Gamer/Downloads/Google Drive/Dólar Cotação/Dólar.csv')\n",
    "except:\n",
    "    os.remove('C:/Users/T-Gamer/Downloads/Google Drive/Dólar Cotação/Dólar.csv')\n",
    "    Path('C:/Users/T-Gamer/Downloads/USD_BRL Dados Históricos.csv').rename('C:/Users/T-Gamer/Downloads/Google Drive/Dólar Cotação/Dólar.csv')"
   ]
  }
 ],
 "metadata": {
  "kernelspec": {
   "display_name": "Python 3 (ipykernel)",
   "language": "python",
   "name": "python3"
  },
  "language_info": {
   "codemirror_mode": {
    "name": "ipython",
    "version": 3
   },
   "file_extension": ".py",
   "mimetype": "text/x-python",
   "name": "python",
   "nbconvert_exporter": "python",
   "pygments_lexer": "ipython3",
   "version": "3.9.7"
  }
 },
 "nbformat": 4,
 "nbformat_minor": 4
}
